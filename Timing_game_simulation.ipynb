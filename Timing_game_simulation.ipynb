{
 "cells": [
  {
   "cell_type": "code",
   "execution_count": 2,
   "id": "e3c9a245",
   "metadata": {},
   "outputs": [],
   "source": [
    "from timing_games_package import Simulation\n",
    "from timing_games_package.Configuration import sim_config_init\n",
    "import matplotlib.pyplot as plt\n",
    "import numpy as np\n",
    "import pandas as pd"
   ]
  },
  {
   "cell_type": "code",
   "execution_count": 3,
   "id": "8c20e92c",
   "metadata": {},
   "outputs": [
    {
     "name": "stdout",
     "output_type": "stream",
     "text": [
      "1\n",
      "Jump detected, x jumps from 9.99 to 9.98\n"
     ]
    }
   ],
   "source": [
    "history = {}\n",
    "round_idx = 0\n",
    "\n",
    "# Set up simulation configuration\n",
    "sim_config = sim_config_init()\n",
    "\n",
    "# Simulate players' initial strategies and payoffs\n",
    "strategies, sample_sets = Simulation.initialize_player_strategies(sim_config)\n",
    "x, y, strat_x, strat_y, strategies_y, quantile = Simulation.calculate_payoff(sim_config, strategies, sample_sets)\n",
    "\n",
    "# Log data for the initial round\n",
    "# history = data_logging(['strategies', 'x', 'y', 'strat_x', 'strat_y'], round_idx, history) # To Do\n",
    "history['strategies', round_idx] = strategies.copy()\n",
    "history['x', round_idx] = x\n",
    "history['y', round_idx] = y\n",
    "history['strat_x', round_idx] = strat_x\n",
    "history['strat_y', round_idx] = strat_y\n",
    "history['strategies_y', round_idx] = strategies_y\n",
    "history['quantile', round_idx] = quantile\n",
    "history['max_strat_x'] = [max(strat_x)]\n",
    "history['min_strat_x'] = [min(strat_x)]\n",
    "history['avg_strat_x'] = [np.mean(strat_x)]\n",
    "\n",
    "history['first_strat_x'] = [strat_x[0]]\n",
    "history['first_strat_y'] = [strat_y[0]]\n",
    "history['last_strat_x'] = [strat_x[-1]]\n",
    "history['last_strat_y'] = [strat_y[-1]]\n",
    "history['max_strat_y'] = [max(strat_y)]\n",
    "\n",
    "# Iterate simulation to update players' strategies and payoff\n",
    "max_game_length = sim_config['game_length']\n",
    "while round_idx < max_game_length:\n",
    "    round_idx += 1\n",
    "    strategies = Simulation.update_player_strategies(x, y, strategies, sample_sets, sim_config)\n",
    "    x, y, strat_x, strat_y, strategies_y, quantile = Simulation.calculate_payoff(sim_config, strategies, sample_sets)\n",
    "\n",
    "    # Log data for the round\n",
    "    history['strategies', round_idx] = strategies.copy()\n",
    "    history['x', round_idx] = x\n",
    "    history['y', round_idx] = y\n",
    "    history['strat_x', round_idx] = strat_x\n",
    "    history['strat_y', round_idx] = strat_y\n",
    "    history['strategies_y', round_idx] = strategies_y\n",
    "    history['quantile', round_idx] = quantile\n",
    "\n",
    "    # Break simulation when detecting player's stretegy jump\n",
    "    prev_max_strat_x = max(history['strat_x', round_idx-1])\n",
    "    current_max_strat_x = max(strat_x)\n",
    "    current_max_strat_y = max(strat_y)\n",
    "    first_strat_x = strat_x[0]\n",
    "    first_strat_y = strat_y[0]\n",
    "    last_strat_x = strat_x[-1]\n",
    "    last_strat_y = strat_y[-1]\n",
    "    history['max_strat_x'].append(current_max_strat_x)\n",
    "    history['min_strat_x'].append(min(strat_x))\n",
    "    history['avg_strat_x'].append(np.mean(strat_x))\n",
    "\n",
    "    history['first_strat_x'].append(first_strat_x)\n",
    "    history['first_strat_y'].append(first_strat_y)\n",
    "    history['last_strat_x'].append(last_strat_x)\n",
    "    history['last_strat_y'].append(last_strat_y)\n",
    "\n",
    "    history['max_strat_y'].append(current_max_strat_y)\n",
    "    # if current_max_strat_x - prev_max_strat_x > 1:\n",
    "    # if (round(abs(current_max_strat_x - history['first_strat_x'][0]), 2) <= 0.01) & (round_idx >= 50):\n",
    "    # if (round(abs(first_strat_x - history['first_strat_x'][0]), 2) <= 0.01) & (round_idx >= 50):\n",
    "    if round_idx >= 2:\n",
    "        print(f'Jump detected, x jumps from {prev_max_strat_x} to {current_max_strat_x}')\n",
    "    #     print(f'loop detected')\n",
    "        break\n",
    "    print(round_idx)"
   ]
  },
  {
   "cell_type": "code",
   "execution_count": null,
   "id": "94e7f893",
   "metadata": {},
   "outputs": [],
   "source": []
  }
 ],
 "metadata": {
  "kernelspec": {
   "display_name": "Python 3 (ipykernel)",
   "language": "python",
   "name": "python3"
  },
  "language_info": {
   "codemirror_mode": {
    "name": "ipython",
    "version": 3
   },
   "file_extension": ".py",
   "mimetype": "text/x-python",
   "name": "python",
   "nbconvert_exporter": "python",
   "pygments_lexer": "ipython3",
   "version": "3.8.9"
  }
 },
 "nbformat": 4,
 "nbformat_minor": 5
}
